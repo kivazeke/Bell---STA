{
  "nbformat": 4,
  "nbformat_minor": 0,
  "metadata": {
    "colab": {
      "provenance": [],
      "collapsed_sections": [
        "_txkVyAk-Hkq",
        "X4d48Cva1Yln",
        "P5tglpOQ1YoG",
        "SkhYMHbvAzJd"
      ],
      "authorship_tag": "ABX9TyPOQrn/f7C0psUQG0dpbMpl",
      "include_colab_link": true
    },
    "kernelspec": {
      "name": "python3",
      "display_name": "Python 3"
    },
    "language_info": {
      "name": "python"
    }
  },
  "cells": [
    {
      "cell_type": "markdown",
      "metadata": {
        "id": "view-in-github",
        "colab_type": "text"
      },
      "source": [
        "<a href=\"https://colab.research.google.com/github/kivazeke/Bell-Stats/blob/main/Lab_2_(9_1)_Bell.ipynb\" target=\"_parent\"><img src=\"https://colab.research.google.com/assets/colab-badge.svg\" alt=\"Open In Colab\"/></a>"
      ]
    },
    {
      "cell_type": "code",
      "source": [
        "import numpy as np\n",
        "import matplotlib.pyplot as plt\n",
        "import imageio\n",
        "from PIL import Image"
      ],
      "metadata": {
        "id": "EO5dFBqw6wkR"
      },
      "execution_count": 72,
      "outputs": []
    },
    {
      "cell_type": "markdown",
      "source": [
        "##Math Typesetting"
      ],
      "metadata": {
        "id": "0RRzLisB77G0"
      }
    },
    {
      "cell_type": "markdown",
      "source": [
        "x"
      ],
      "metadata": {
        "id": "SXrJ3SoKw-R8"
      }
    },
    {
      "cell_type": "markdown",
      "source": [
        "$x$"
      ],
      "metadata": {
        "id": "PupAdFqDw8oQ"
      }
    },
    {
      "cell_type": "markdown",
      "source": [
        "7"
      ],
      "metadata": {
        "id": "3IX3dXCoxApd"
      }
    },
    {
      "cell_type": "markdown",
      "source": [
        "$7$"
      ],
      "metadata": {
        "id": "wKvsoHv2xBnO"
      }
    },
    {
      "cell_type": "markdown",
      "source": [
        "$y = m x + b$"
      ],
      "metadata": {
        "id": "o7nfo6vuxHO6"
      }
    },
    {
      "cell_type": "markdown",
      "source": [
        "$\\frac{a}{b}$"
      ],
      "metadata": {
        "id": "NTYKJW6gx8nd"
      }
    },
    {
      "cell_type": "markdown",
      "source": [
        "$a^b$"
      ],
      "metadata": {
        "id": "JsULfOzux9vq"
      }
    },
    {
      "cell_type": "markdown",
      "source": [
        "$a_b$"
      ],
      "metadata": {
        "id": "4pYW8QODyAV7"
      }
    },
    {
      "cell_type": "markdown",
      "source": [
        "$f(x) = \\frac{1}{\\sigma\\sqrt{2\\pi}}e^{-\\frac{1}{2}(\\frac{x-\\mu}{\\sigma})^2}$"
      ],
      "metadata": {
        "id": "LkU2F2mhxRpP"
      }
    },
    {
      "cell_type": "markdown",
      "source": [
        "#Pi Charts\n"
      ],
      "metadata": {
        "id": "_txkVyAk-Hkq"
      }
    },
    {
      "cell_type": "code",
      "source": [],
      "metadata": {
        "id": "n_At0SPi6nV7"
      },
      "execution_count": 72,
      "outputs": []
    },
    {
      "cell_type": "code",
      "source": [],
      "metadata": {
        "id": "Ovia9Jo36rKK"
      },
      "execution_count": 72,
      "outputs": []
    },
    {
      "cell_type": "code",
      "execution_count": 73,
      "metadata": {
        "colab": {
          "base_uri": "https://localhost:8080/",
          "height": 0
        },
        "id": "LoS1PDF51RUN",
        "outputId": "99c8cde9-e4af-4bdd-95d9-f4a7bb6fd078"
      },
      "outputs": [
        {
          "output_type": "execute_result",
          "data": {
            "text/plain": [
              "(-1.2055201066144072,\n",
              " 1.1159222389025516,\n",
              " -1.1014587395130502,\n",
              " 1.1000694637863357)"
            ]
          },
          "metadata": {},
          "execution_count": 73
        },
        {
          "output_type": "display_data",
          "data": {
            "text/plain": [
              "<Figure size 432x288 with 1 Axes>"
            ],
            "image/png": "[encoded data removed]"
          },
          "metadata": {}
        }
      ],
      "source": [
        "import matplotlib.pyplot as plt\n",
        "\n",
        "labels = ['Frogs','Pizza','Chocolate','Fries']\n",
        "\n",
        "sizes = [22,35,87,14]\n",
        "\n",
        "explode = (0,0.1,0,0)\n",
        "\n",
        "fig1,ax1 = plt.subplots()\n",
        "ax1.pie(sizes, \n",
        "        explode=explode, \n",
        "        labels =labels, \n",
        "        autopct='%1.1f%%', \n",
        "        shadow=True, \n",
        "        startangle=90)\n",
        "ax1.axis('equal')"
      ]
    },
    {
      "cell_type": "code",
      "source": [
        "import matplotlib.pyplot as plt\n",
        "\n",
        "labels = ['Frogs','Pizza','Chocolate','Fries']\n",
        "\n",
        "sizes = [502,35,87,14]\n",
        "\n",
        "explode = (0.2,0.5,0,0.1) #increasing explode number brings out pieces of the chart. 0 leaves them in the pie together. 0.1-0.5 is best for pulling sections out slitghtly\n",
        "\n",
        "fig1,ax1 = plt.subplots()\n",
        "ax1.pie(sizes, explode=explode, labels=labels, autopct='%1.1f%%', shadow=True, startangle=90)\n",
        "ax1.axis('equal'); # ; after the end still gets rid of numbers on the top of the chart"
      ],
      "metadata": {
        "colab": {
          "base_uri": "https://localhost:8080/",
          "height": 0
        },
        "id": "DGVn3Mu01YU_",
        "outputId": "968c3045-3365-4f25-a558-274eb507dc53"
      },
      "execution_count": 74,
      "outputs": [
        {
          "output_type": "display_data",
          "data": {
            "text/plain": [
              "<Figure size 432x288 with 1 Axes>"
            ],
            "image/png": "[encoded data removed]"
          },
          "metadata": {}
        }
      ]
    },
    {
      "cell_type": "code",
      "source": [
        "name = 'Jory'"
      ],
      "metadata": {
        "id": "31gKngRR1YX2"
      },
      "execution_count": 75,
      "outputs": []
    },
    {
      "cell_type": "code",
      "source": [
        "name"
      ],
      "metadata": {
        "colab": {
          "base_uri": "https://localhost:8080/",
          "height": 0
        },
        "id": "XSQwEh9-5EN9",
        "outputId": "eff1fb71-0b9e-4528-a17d-1c425a8692cf"
      },
      "execution_count": 76,
      "outputs": [
        {
          "output_type": "execute_result",
          "data": {
            "text/plain": [
              "'Jory'"
            ],
            "application/vnd.google.colaboratory.intrinsic+json": {
              "type": "string"
            }
          },
          "metadata": {},
          "execution_count": 76
        }
      ]
    },
    {
      "cell_type": "code",
      "source": [
        "f\"Hello my name is {name}\""
      ],
      "metadata": {
        "colab": {
          "base_uri": "https://localhost:8080/",
          "height": 0
        },
        "id": "ZlD2wFGm5L0L",
        "outputId": "4326c899-26d6-4162-c626-b1020a025ead"
      },
      "execution_count": 77,
      "outputs": [
        {
          "output_type": "execute_result",
          "data": {
            "text/plain": [
              "'Hello my name is Jory'"
            ],
            "application/vnd.google.colaboratory.intrinsic+json": {
              "type": "string"
            }
          },
          "metadata": {},
          "execution_count": 77
        }
      ]
    },
    {
      "cell_type": "code",
      "source": [],
      "metadata": {
        "id": "mrJhKOp06oVt"
      },
      "execution_count": 77,
      "outputs": []
    },
    {
      "cell_type": "code",
      "source": [],
      "metadata": {
        "id": "kh7jpMi36uCB"
      },
      "execution_count": 77,
      "outputs": []
    },
    {
      "cell_type": "markdown",
      "source": [
        "#Files"
      ],
      "metadata": {
        "id": "X4d48Cva1Yln"
      }
    },
    {
      "cell_type": "code",
      "source": [
        "f = open(\"Hello.txt\", 'w')\n",
        "\n",
        "data = \"Hello World\"\n",
        "\n",
        "print(data,file = f)\n",
        "\n",
        "f.close()"
      ],
      "metadata": {
        "id": "YM1vFOrL5L2j"
      },
      "execution_count": 78,
      "outputs": []
    },
    {
      "cell_type": "code",
      "source": [],
      "metadata": {
        "id": "jUNezuZL5L40"
      },
      "execution_count": 78,
      "outputs": []
    },
    {
      "cell_type": "code",
      "source": [
        "f = open(\"Hello2.txt\", 'w') # w means write, so it will write whatever you desire into a file\n",
        "\n",
        "name = \"Jory\"\n",
        "\n",
        "data = f\"Hello {name}, How are you today?\"\n",
        "\n",
        "print(data,file = f)\n",
        "\n",
        "f.close()"
      ],
      "metadata": {
        "id": "acojTOoY5L7U"
      },
      "execution_count": 79,
      "outputs": []
    },
    {
      "cell_type": "code",
      "source": [
        "f = open(\"Hello2.txt\", 'r') # r means read, so the computer will ready you the contents of the file\n",
        "\n",
        "lines = f.readlines()\n",
        "\n",
        "print(lines)\n",
        "\n",
        "f.close()"
      ],
      "metadata": {
        "colab": {
          "base_uri": "https://localhost:8080/"
        },
        "id": "6d7KkEpc7M6o",
        "outputId": "cd7d8db3-b5c1-4b1d-bdac-6ff98a53cb86"
      },
      "execution_count": 80,
      "outputs": [
        {
          "output_type": "stream",
          "name": "stdout",
          "text": [
            "['Hello Jory, How are you today?\\n']\n"
          ]
        }
      ]
    },
    {
      "cell_type": "markdown",
      "source": [
        "# Coin Flip"
      ],
      "metadata": {
        "id": "P5tglpOQ1YoG"
      }
    },
    {
      "cell_type": "code",
      "source": [
        "import numpy as np"
      ],
      "metadata": {
        "id": "cyWZMscg7M9W"
      },
      "execution_count": 81,
      "outputs": []
    },
    {
      "cell_type": "code",
      "source": [
        "np.random.random() #makes us up a number between 0-1"
      ],
      "metadata": {
        "colab": {
          "base_uri": "https://localhost:8080/"
        },
        "id": "z8vj500U76yZ",
        "outputId": "490eacab-5746-4026-8af1-470691e22147"
      },
      "execution_count": 82,
      "outputs": [
        {
          "output_type": "execute_result",
          "data": {
            "text/plain": [
              "0.4482895272374914"
            ]
          },
          "metadata": {},
          "execution_count": 82
        }
      ]
    },
    {
      "cell_type": "code",
      "source": [
        "np.random.random()"
      ],
      "metadata": {
        "colab": {
          "base_uri": "https://localhost:8080/"
        },
        "id": "2b_IF7R67604",
        "outputId": "310bc871-05f2-4daf-ef10-73b6e0a0d70a"
      },
      "execution_count": 83,
      "outputs": [
        {
          "output_type": "execute_result",
          "data": {
            "text/plain": [
              "0.23915222492419086"
            ]
          },
          "metadata": {},
          "execution_count": 83
        }
      ]
    },
    {
      "cell_type": "code",
      "source": [
        "np.random.random()"
      ],
      "metadata": {
        "colab": {
          "base_uri": "https://localhost:8080/"
        },
        "id": "vScd8QgZ8pFN",
        "outputId": "3f299610-16bd-4aca-9b93-88ac55473a61"
      },
      "execution_count": 84,
      "outputs": [
        {
          "output_type": "execute_result",
          "data": {
            "text/plain": [
              "0.6527071292274534"
            ]
          },
          "metadata": {},
          "execution_count": 84
        }
      ]
    },
    {
      "cell_type": "code",
      "source": [
        "for index in range(10):\n",
        "    print(index, np.random.random() )"
      ],
      "metadata": {
        "colab": {
          "base_uri": "https://localhost:8080/"
        },
        "id": "fcuS_u388pHr",
        "outputId": "05443c07-623e-419b-c530-3574f512123b"
      },
      "execution_count": 85,
      "outputs": [
        {
          "output_type": "stream",
          "name": "stdout",
          "text": [
            "0 0.7063058947677777\n",
            "1 0.8625024968525706\n",
            "2 0.5988714993813867\n",
            "3 0.5337599870361811\n",
            "4 0.730819591510953\n",
            "5 0.6846013841755664\n",
            "6 0.6857086625974083\n",
            "7 0.528306641255353\n",
            "8 0.5385259948525805\n",
            "9 0.05440939898839636\n"
          ]
        }
      ]
    },
    {
      "cell_type": "code",
      "source": [
        "for trogladite in range(10): # can change the name index to anything for this line and the next to simplfy the equation. Must be the same to get results. (trogladite= anything you want)\n",
        "    print( trogladite, np.random.random() )"
      ],
      "metadata": {
        "colab": {
          "base_uri": "https://localhost:8080/"
        },
        "id": "7wVF91Mn8pKU",
        "outputId": "c86a1569-41ee-43d1-e65f-fa61fbf34706"
      },
      "execution_count": 86,
      "outputs": [
        {
          "output_type": "stream",
          "name": "stdout",
          "text": [
            "0 0.27190376946321515\n",
            "1 0.05098085014059894\n",
            "2 0.6658537606932083\n",
            "3 0.3081335785053646\n",
            "4 0.09532222379537558\n",
            "5 0.9902854885802705\n",
            "6 0.36969965413164274\n",
            "7 0.33692939598123695\n",
            "8 0.822876119150959\n",
            "9 0.005036335766527622\n"
          ]
        }
      ]
    },
    {
      "cell_type": "code",
      "source": [
        "for popsicle in range(10):\n",
        "    print(popsicle, \"Hello Jory, your number is: \", np.random.random() ) #can add text to acompany the random numbers"
      ],
      "metadata": {
        "colab": {
          "base_uri": "https://localhost:8080/"
        },
        "id": "ghbCU0vu9J9_",
        "outputId": "ac1fa2dc-5ca9-4c7a-c87b-e7cd1efbf498"
      },
      "execution_count": 87,
      "outputs": [
        {
          "output_type": "stream",
          "name": "stdout",
          "text": [
            "0 Hello Jory, your number is:  0.4914579627869028\n",
            "1 Hello Jory, your number is:  0.5795753501322404\n",
            "2 Hello Jory, your number is:  0.594515394970549\n",
            "3 Hello Jory, your number is:  0.20808020827641927\n",
            "4 Hello Jory, your number is:  0.4138513809619121\n",
            "5 Hello Jory, your number is:  0.6259311002236773\n",
            "6 Hello Jory, your number is:  0.8599906293789026\n",
            "7 Hello Jory, your number is:  0.18711652681273772\n",
            "8 Hello Jory, your number is:  0.17312856496134787\n",
            "9 Hello Jory, your number is:  0.44726268983103323\n"
          ]
        }
      ]
    },
    {
      "cell_type": "code",
      "source": [
        "np.random.random()"
      ],
      "metadata": {
        "colab": {
          "base_uri": "https://localhost:8080/"
        },
        "id": "x9iKtM2r9KAo",
        "outputId": "f3d67015-0a25-4ff3-ecfa-5f71d1ea4905"
      },
      "execution_count": 88,
      "outputs": [
        {
          "output_type": "execute_result",
          "data": {
            "text/plain": [
              "0.9088908223004797"
            ]
          },
          "metadata": {},
          "execution_count": 88
        }
      ]
    },
    {
      "cell_type": "code",
      "source": [
        "np.random.random() < 0.5  # add in greater or less than to change it to a true or false"
      ],
      "metadata": {
        "colab": {
          "base_uri": "https://localhost:8080/"
        },
        "id": "pysEuo5f-SST",
        "outputId": "918bd696-ca9d-4199-b19f-2f7a0f6a0b12"
      },
      "execution_count": 89,
      "outputs": [
        {
          "output_type": "execute_result",
          "data": {
            "text/plain": [
              "False"
            ]
          },
          "metadata": {},
          "execution_count": 89
        }
      ]
    },
    {
      "cell_type": "code",
      "source": [
        "for flip in range(10):\n",
        "    print(np.random.random() > 0.5)"
      ],
      "metadata": {
        "colab": {
          "base_uri": "https://localhost:8080/"
        },
        "id": "BDndMFBn-SVS",
        "outputId": "e90d755e-11ae-4546-b0d5-ffbd9c2d538d"
      },
      "execution_count": 90,
      "outputs": [
        {
          "output_type": "stream",
          "name": "stdout",
          "text": [
            "True\n",
            "False\n",
            "True\n",
            "False\n",
            "True\n",
            "False\n",
            "False\n",
            "True\n",
            "False\n",
            "False\n"
          ]
        }
      ]
    },
    {
      "cell_type": "markdown",
      "source": [
        "excluding \"flip\" in the second line gets rid of the numbers"
      ],
      "metadata": {
        "id": "JL0tN2lZ_sSk"
      }
    },
    {
      "cell_type": "code",
      "source": [
        "for flip in range(10):\n",
        "    coin = np.random.random() > 0.5\n",
        "    if coin == True:\n",
        "        print(\"Heads\")\n",
        "    else:\n",
        "        print(\"Tails\")\n"
      ],
      "metadata": {
        "colab": {
          "base_uri": "https://localhost:8080/"
        },
        "id": "TgHUO22_9KDL",
        "outputId": "04ab1123-28e4-4776-ca5e-cb62b5c9a2ad"
      },
      "execution_count": 91,
      "outputs": [
        {
          "output_type": "stream",
          "name": "stdout",
          "text": [
            "Tails\n",
            "Tails\n",
            "Heads\n",
            "Heads\n",
            "Tails\n",
            "Heads\n",
            "Tails\n",
            "Tails\n",
            "Heads\n",
            "Tails\n"
          ]
        }
      ]
    },
    {
      "cell_type": "markdown",
      "source": [
        "#Functions"
      ],
      "metadata": {
        "id": "SkhYMHbvAzJd"
      }
    },
    {
      "cell_type": "code",
      "source": [
        "def flip_coin():\n",
        "    coin = np.random.random() > 0.5\n",
        "    if coin == True:\n",
        "        print(\"Heads\")\n",
        "    else:\n",
        "        print(\"Tails\")"
      ],
      "metadata": {
        "id": "FTqVH2BT_QNT"
      },
      "execution_count": 92,
      "outputs": []
    },
    {
      "cell_type": "markdown",
      "source": [
        "can highlight everyhtng and hold shift amd tab it and it will reverse indent evrything"
      ],
      "metadata": {
        "id": "U3OVe62oB8i1"
      }
    },
    {
      "cell_type": "code",
      "source": [
        "flip_coin()"
      ],
      "metadata": {
        "colab": {
          "base_uri": "https://localhost:8080/"
        },
        "id": "LCwrwu3Q_QPj",
        "outputId": "8efa1c36-261c-48af-daa9-c9ab28a30ba7"
      },
      "execution_count": 93,
      "outputs": [
        {
          "output_type": "stream",
          "name": "stdout",
          "text": [
            "Tails\n"
          ]
        }
      ]
    },
    {
      "cell_type": "code",
      "source": [
        "for j in range(100):\n",
        "    flip_coin()"
      ],
      "metadata": {
        "colab": {
          "base_uri": "https://localhost:8080/"
        },
        "id": "U0h82GI3_QSD",
        "outputId": "e76729d5-1f05-417f-d011-4bc8f5e8c9a3"
      },
      "execution_count": 94,
      "outputs": [
        {
          "output_type": "stream",
          "name": "stdout",
          "text": [
            "Heads\n",
            "Heads\n",
            "Heads\n",
            "Heads\n",
            "Heads\n",
            "Tails\n",
            "Heads\n",
            "Heads\n",
            "Heads\n",
            "Heads\n",
            "Heads\n",
            "Tails\n",
            "Heads\n",
            "Tails\n",
            "Tails\n",
            "Tails\n",
            "Tails\n",
            "Heads\n",
            "Tails\n",
            "Heads\n",
            "Tails\n",
            "Heads\n",
            "Heads\n",
            "Heads\n",
            "Tails\n",
            "Heads\n",
            "Heads\n",
            "Tails\n",
            "Heads\n",
            "Heads\n",
            "Heads\n",
            "Heads\n",
            "Heads\n",
            "Heads\n",
            "Heads\n",
            "Tails\n",
            "Tails\n",
            "Tails\n",
            "Tails\n",
            "Heads\n",
            "Tails\n",
            "Tails\n",
            "Tails\n",
            "Tails\n",
            "Heads\n",
            "Heads\n",
            "Tails\n",
            "Heads\n",
            "Heads\n",
            "Heads\n",
            "Tails\n",
            "Tails\n",
            "Tails\n",
            "Tails\n",
            "Heads\n",
            "Tails\n",
            "Heads\n",
            "Tails\n",
            "Heads\n",
            "Tails\n",
            "Heads\n",
            "Tails\n",
            "Heads\n",
            "Tails\n",
            "Tails\n",
            "Tails\n",
            "Tails\n",
            "Heads\n",
            "Heads\n",
            "Heads\n",
            "Tails\n",
            "Tails\n",
            "Tails\n",
            "Heads\n",
            "Tails\n",
            "Heads\n",
            "Heads\n",
            "Heads\n",
            "Tails\n",
            "Tails\n",
            "Heads\n",
            "Tails\n",
            "Tails\n",
            "Heads\n",
            "Tails\n",
            "Heads\n",
            "Tails\n",
            "Heads\n",
            "Heads\n",
            "Tails\n",
            "Heads\n",
            "Heads\n",
            "Tails\n",
            "Tails\n",
            "Heads\n",
            "Tails\n",
            "Heads\n",
            "Heads\n",
            "Heads\n",
            "Tails\n"
          ]
        }
      ]
    },
    {
      "cell_type": "markdown",
      "source": [
        "#Graphics"
      ],
      "metadata": {
        "id": "kn6PZfroCcHW"
      }
    },
    {
      "cell_type": "code",
      "source": [
        "from IPython.core.display import display, HTML"
      ],
      "metadata": {
        "id": "Q8t6SSW7Bdn8"
      },
      "execution_count": 95,
      "outputs": []
    },
    {
      "cell_type": "code",
      "source": [
        "display(HTML('<h1> Hello Jory </h1>'))"
      ],
      "metadata": {
        "colab": {
          "base_uri": "https://localhost:8080/",
          "height": 74
        },
        "id": "PQWslT9EBdqN",
        "outputId": "6e43258c-2690-4dcb-a221-e00663b4dbbb"
      },
      "execution_count": 96,
      "outputs": [
        {
          "output_type": "display_data",
          "data": {
            "text/plain": [
              "<IPython.core.display.HTML object>"
            ],
            "text/html": [
              "<h1> Hello Jory </h1>"
            ]
          },
          "metadata": {}
        }
      ]
    },
    {
      "cell_type": "code",
      "source": [
        "heads = \"https://st3.depositphotos.com/1007168/14192/v/1600/depositphotos_141928308-stock-illustration-golden-coin-cartoon.jpg\""
      ],
      "metadata": {
        "id": "Ku0lEPq8BdvD"
      },
      "execution_count": 97,
      "outputs": []
    },
    {
      "cell_type": "code",
      "source": [
        "tails = \"https://img.freepik.com/premium-vector/cartoon-golden-coin-vector-hand-drawn-illustration-isolated-transparent-background_20412-788.jpg?w=2000\""
      ],
      "metadata": {
        "id": "mDkeoTutC6o9"
      },
      "execution_count": 98,
      "outputs": []
    },
    {
      "cell_type": "code",
      "source": [
        "display(HTML('<img src= \"https://img.freepik.com/premium-vector/cartoon-golden-coin-vector-hand-drawn-illustration-isolated-transparent-background_20412-788.jpg?w=2000\">'))\n"
      ],
      "metadata": {
        "id": "y86NeBieC6rE",
        "colab": {
          "base_uri": "https://localhost:8080/",
          "height": 1000
        },
        "outputId": "c418c739-76ce-4805-d975-cfa40405089c"
      },
      "execution_count": 99,
      "outputs": [
        {
          "output_type": "display_data",
          "data": {
            "text/plain": [
              "<IPython.core.display.HTML object>"
            ],
            "text/html": [
              "<img src= \"https://img.freepik.com/premium-vector/cartoon-golden-coin-vector-hand-drawn-illustration-isolated-transparent-background_20412-788.jpg?w=2000\">"
            ]
          },
          "metadata": {}
        }
      ]
    },
    {
      "cell_type": "code",
      "source": [
        "display(HTML('<img src= \"https://st3.depositphotos.com/1007168/14192/v/1600/depositphotos_141928308-stock-illustration-golden-coin-cartoon.jpg\">'))\n"
      ],
      "metadata": {
        "id": "veCqL5PQC6tN",
        "colab": {
          "base_uri": "https://localhost:8080/",
          "height": 1000
        },
        "outputId": "46b7f568-8a37-45c7-a80d-bc994601ed54"
      },
      "execution_count": 100,
      "outputs": [
        {
          "output_type": "display_data",
          "data": {
            "text/plain": [
              "<IPython.core.display.HTML object>"
            ],
            "text/html": [
              "<img src= \"https://st3.depositphotos.com/1007168/14192/v/1600/depositphotos_141928308-stock-illustration-golden-coin-cartoon.jpg\">"
            ]
          },
          "metadata": {}
        }
      ]
    },
    {
      "cell_type": "code",
      "source": [
        "def show_img(img):\n",
        "    display(HTML('<img src =' + img + ' width = 300>'))"
      ],
      "metadata": {
        "id": "qWpG2xwuBdxj"
      },
      "execution_count": 101,
      "outputs": []
    },
    {
      "cell_type": "markdown",
      "source": [
        "can change heigth and width within this ^^ block"
      ],
      "metadata": {
        "id": "i2VSGgPeFqTJ"
      }
    },
    {
      "cell_type": "code",
      "source": [
        "show_img(heads)"
      ],
      "metadata": {
        "colab": {
          "base_uri": "https://localhost:8080/",
          "height": 340
        },
        "id": "P_g5xGuuFJrv",
        "outputId": "e2d4f081-a97e-4f04-d419-f0ac8db53061"
      },
      "execution_count": 102,
      "outputs": [
        {
          "output_type": "display_data",
          "data": {
            "text/plain": [
              "<IPython.core.display.HTML object>"
            ],
            "text/html": [
              "<img src =https://st3.depositphotos.com/1007168/14192/v/1600/depositphotos_141928308-stock-illustration-golden-coin-cartoon.jpg width = 300>"
            ]
          },
          "metadata": {}
        }
      ]
    },
    {
      "cell_type": "code",
      "source": [
        "show_img(tails)"
      ],
      "metadata": {
        "colab": {
          "base_uri": "https://localhost:8080/",
          "height": 309
        },
        "id": "CSeg8_OuFTEe",
        "outputId": "e378c617-1c84-426e-ad71-e0b6ba0834fc"
      },
      "execution_count": 103,
      "outputs": [
        {
          "output_type": "display_data",
          "data": {
            "text/plain": [
              "<IPython.core.display.HTML object>"
            ],
            "text/html": [
              "<img src =https://img.freepik.com/premium-vector/cartoon-golden-coin-vector-hand-drawn-illustration-isolated-transparent-background_20412-788.jpg?w=2000 width = 300>"
            ]
          },
          "metadata": {}
        }
      ]
    },
    {
      "cell_type": "code",
      "source": [
        "def coin():\n",
        "  return np.random.randint(2)"
      ],
      "metadata": {
        "id": "MsJJGisIIomi"
      },
      "execution_count": 104,
      "outputs": []
    },
    {
      "cell_type": "code",
      "source": [
        "coin()"
      ],
      "metadata": {
        "colab": {
          "base_uri": "https://localhost:8080/"
        },
        "id": "3PrtQcBEIoqb",
        "outputId": "068bf165-5a76-49f0-b8fd-ad53d54f2024"
      },
      "execution_count": 105,
      "outputs": [
        {
          "output_type": "execute_result",
          "data": {
            "text/plain": [
              "1"
            ]
          },
          "metadata": {},
          "execution_count": 105
        }
      ]
    },
    {
      "cell_type": "code",
      "metadata": {
        "id": "U1Oe2gBlsFFQ"
      },
      "source": [
        "##  \n",
        "def flip_coin():\n",
        "    \n",
        "    if coin():\n",
        "        show_img(heads)\n",
        "    else:\n",
        "        show_img(tails)\n",
        "\n",
        "# this can be interchanged with the other formula above the flip coin"
      ],
      "execution_count": 106,
      "outputs": []
    },
    {
      "cell_type": "markdown",
      "source": [
        "def flip_coin():\n",
        "    \n",
        "    if coin():\n",
        "        show_img(heads)\n",
        "    else:\n",
        "        show_img(tails)\n",
        "\n",
        "\n",
        "\n",
        "# ^^ can also use this formula to get the coin to function"
      ],
      "metadata": {
        "id": "YSfC-lfD8kQZ"
      }
    },
    {
      "cell_type": "markdown",
      "source": [
        "## Flip Coin -- Final"
      ],
      "metadata": {
        "id": "mKwkI7Q09O8x"
      }
    },
    {
      "cell_type": "code",
      "source": [
        "def flip_coin():\n",
        "    result = coin()\n",
        "    print(result)\n",
        "    if result == 1:\n",
        "        show_img(heads)\n",
        "    else:\n",
        "        show_img(tails)"
      ],
      "metadata": {
        "id": "sm3iJNOw8RKx"
      },
      "execution_count": 107,
      "outputs": []
    },
    {
      "cell_type": "code",
      "source": [
        "flip_coin() # this function now works to flip a coin and shows you a picture of your result"
      ],
      "metadata": {
        "colab": {
          "base_uri": "https://localhost:8080/",
          "height": 357
        },
        "id": "-O5PQuRAIunL",
        "outputId": "e6c9df81-bf27-491b-afc7-6584ceb58a12"
      },
      "execution_count": 108,
      "outputs": [
        {
          "output_type": "stream",
          "name": "stdout",
          "text": [
            "1\n"
          ]
        },
        {
          "output_type": "display_data",
          "data": {
            "text/plain": [
              "<IPython.core.display.HTML object>"
            ],
            "text/html": [
              "<img src =https://st3.depositphotos.com/1007168/14192/v/1600/depositphotos_141928308-stock-illustration-golden-coin-cartoon.jpg width = 300>"
            ]
          },
          "metadata": {}
        }
      ]
    },
    {
      "cell_type": "code",
      "source": [
        "for i in range(5):\n",
        "    flip_coin()"
      ],
      "metadata": {
        "colab": {
          "base_uri": "https://localhost:8080/",
          "height": 1000
        },
        "id": "5cKRdV5z6YoQ",
        "outputId": "3d762c8c-ecf4-4598-c3dd-da599c8a556a"
      },
      "execution_count": 109,
      "outputs": [
        {
          "output_type": "stream",
          "name": "stdout",
          "text": [
            "1\n"
          ]
        },
        {
          "output_type": "display_data",
          "data": {
            "text/plain": [
              "<IPython.core.display.HTML object>"
            ],
            "text/html": [
              "<img src =https://st3.depositphotos.com/1007168/14192/v/1600/depositphotos_141928308-stock-illustration-golden-coin-cartoon.jpg width = 300>"
            ]
          },
          "metadata": {}
        },
        {
          "output_type": "stream",
          "name": "stdout",
          "text": [
            "0\n"
          ]
        },
        {
          "output_type": "display_data",
          "data": {
            "text/plain": [
              "<IPython.core.display.HTML object>"
            ],
            "text/html": [
              "<img src =https://img.freepik.com/premium-vector/cartoon-golden-coin-vector-hand-drawn-illustration-isolated-transparent-background_20412-788.jpg?w=2000 width = 300>"
            ]
          },
          "metadata": {}
        },
        {
          "output_type": "stream",
          "name": "stdout",
          "text": [
            "1\n"
          ]
        },
        {
          "output_type": "display_data",
          "data": {
            "text/plain": [
              "<IPython.core.display.HTML object>"
            ],
            "text/html": [
              "<img src =https://st3.depositphotos.com/1007168/14192/v/1600/depositphotos_141928308-stock-illustration-golden-coin-cartoon.jpg width = 300>"
            ]
          },
          "metadata": {}
        },
        {
          "output_type": "stream",
          "name": "stdout",
          "text": [
            "0\n"
          ]
        },
        {
          "output_type": "display_data",
          "data": {
            "text/plain": [
              "<IPython.core.display.HTML object>"
            ],
            "text/html": [
              "<img src =https://img.freepik.com/premium-vector/cartoon-golden-coin-vector-hand-drawn-illustration-isolated-transparent-background_20412-788.jpg?w=2000 width = 300>"
            ]
          },
          "metadata": {}
        },
        {
          "output_type": "stream",
          "name": "stdout",
          "text": [
            "1\n"
          ]
        },
        {
          "output_type": "display_data",
          "data": {
            "text/plain": [
              "<IPython.core.display.HTML object>"
            ],
            "text/html": [
              "<img src =https://st3.depositphotos.com/1007168/14192/v/1600/depositphotos_141928308-stock-illustration-golden-coin-cartoon.jpg width = 300>"
            ]
          },
          "metadata": {}
        }
      ]
    },
    {
      "cell_type": "code",
      "source": [
        "np.random.randint(6)"
      ],
      "metadata": {
        "id": "cLa26hfOJH-y",
        "colab": {
          "base_uri": "https://localhost:8080/"
        },
        "outputId": "23e7743c-7fa3-4422-8b3e-51a5ef797f6a"
      },
      "execution_count": 110,
      "outputs": [
        {
          "output_type": "execute_result",
          "data": {
            "text/plain": [
              "1"
            ]
          },
          "metadata": {},
          "execution_count": 110
        }
      ]
    },
    {
      "cell_type": "markdown",
      "source": [
        "random.random = random decimal\n",
        "\n",
        "random.randint = random whole number"
      ],
      "metadata": {
        "id": "SOLFozWH7O8D"
      }
    },
    {
      "cell_type": "code",
      "source": [
        "for pushing_p in range(21):\n",
        "    print(np.random.randint(6))"
      ],
      "metadata": {
        "colab": {
          "base_uri": "https://localhost:8080/"
        },
        "id": "bkd3m9Uf6YRd",
        "outputId": "ca469867-c2d6-48c0-9e18-6f544e7bd35e"
      },
      "execution_count": 111,
      "outputs": [
        {
          "output_type": "stream",
          "name": "stdout",
          "text": [
            "1\n",
            "5\n",
            "5\n",
            "1\n",
            "5\n",
            "4\n",
            "3\n",
            "4\n",
            "3\n",
            "4\n",
            "0\n",
            "1\n",
            "4\n",
            "3\n",
            "0\n",
            "5\n",
            "3\n",
            "1\n",
            "5\n",
            "5\n",
            "2\n"
          ]
        }
      ]
    },
    {
      "cell_type": "markdown",
      "source": [
        "^^this block displays a random number between 0-6 being printed 21 times"
      ],
      "metadata": {
        "id": "jwYw3Nc_7Az4"
      }
    },
    {
      "cell_type": "code",
      "source": [],
      "metadata": {
        "id": "famGylu36wpq"
      },
      "execution_count": 111,
      "outputs": []
    }
  ]
}