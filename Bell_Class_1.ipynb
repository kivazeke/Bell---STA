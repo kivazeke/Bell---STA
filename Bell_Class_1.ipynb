{
  "nbformat": 4,
  "nbformat_minor": 0,
  "metadata": {
    "colab": {
      "provenance": [],
      "authorship_tag": "ABX9TyOQlXUAGGXxAZIlxkUFXxGA",
      "include_colab_link": true
    },
    "kernelspec": {
      "name": "python3",
      "display_name": "Python 3"
    },
    "language_info": {
      "name": "python"
    }
  },
  "cells": [
    {
      "cell_type": "markdown",
      "metadata": {
        "id": "view-in-github",
        "colab_type": "text"
      },
      "source": [
        "<a href=\"https://colab.research.google.com/github/kivazeke/Bell-Stats/blob/main/Bell_Class_1.ipynb\" target=\"_parent\"><img src=\"https://colab.research.google.com/assets/colab-badge.svg\" alt=\"Open In Colab\"/></a>"
      ]
    },
    {
      "cell_type": "code",
      "execution_count": null,
      "metadata": {
        "id": "3X0ioHwWXccM"
      },
      "outputs": [],
      "source": [
        "# *= times **= to the _ power"
      ]
    },
    {
      "cell_type": "code",
      "source": [
        "# <img src = (...) > this can bring an image in by using the url of the picture"
      ],
      "metadata": {
        "id": "VilnbCznXwAd"
      },
      "execution_count": null,
      "outputs": []
    },
    {
      "cell_type": "markdown",
      "source": [
        "can put width/height= ... after each iamge to shrink or enlarge it"
      ],
      "metadata": {
        "id": "oNigxBNMZlVq"
      }
    },
    {
      "cell_type": "markdown",
      "source": [
        "<img src = https://cdn.britannica.com/54/119354-050-FA32210A/pineapple.jpg >\n"
      ],
      "metadata": {
        "id": "qG1TukApY2cb"
      }
    },
    {
      "cell_type": "markdown",
      "source": [
        "x\n"
      ],
      "metadata": {
        "id": "CxMD51MVZCjm"
      }
    },
    {
      "cell_type": "markdown",
      "source": [
        "$x$ #putting dollar signs around x put it into an algebra script"
      ],
      "metadata": {
        "id": "0benWy5UZCmc"
      }
    },
    {
      "cell_type": "markdown",
      "source": [
        "$y = m x + b$"
      ],
      "metadata": {
        "id": "39K_Gic8ZCo9"
      }
    },
    {
      "cell_type": "markdown",
      "source": [
        "$\\frac{2}{4}$ #how you make fractions"
      ],
      "metadata": {
        "id": "trx-_15XZCrp"
      }
    },
    {
      "cell_type": "markdown",
      "source": [
        "$a^b$"
      ],
      "metadata": {
        "id": "DrdOXTT8bY-p"
      }
    },
    {
      "cell_type": "markdown",
      "source": [
        "$a^{bcd}$"
      ],
      "metadata": {
        "id": "2SxYewyobZBh"
      }
    },
    {
      "cell_type": "markdown",
      "source": [
        "$f(x) = \\frac{1}{\\sigma\\sqrt{2\\pi}}e^{-\\frac{1}{2}(\\frac{x-\\mu}{\\sigma})^2}$\n",
        "\n"
      ],
      "metadata": {
        "id": "KVjAcbGkbZEf"
      }
    },
    {
      "cell_type": "markdown",
      "source": [
        "$f(x) = \\frac{1}{\\sigma\\sqrt{2\\pi}}e^    {-\\frac{1}{2}(\\frac{x-\\mu}{\\sigma})^2}$"
      ],
      "metadata": {
        "id": "g58jsU6sfq_Z"
      }
    },
    {
      "cell_type": "markdown",
      "source": [
        "$a_b$ $a_{bcd}$"
      ],
      "metadata": {
        "id": "gpHldeBjZCuW"
      }
    },
    {
      "cell_type": "code",
      "source": [],
      "metadata": {
        "id": "K817Mr6CdHh_"
      },
      "execution_count": null,
      "outputs": []
    }
  ]
}